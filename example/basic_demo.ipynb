{
 "cells": [
  {
   "cell_type": "code",
   "execution_count": 1,
   "metadata": {},
   "outputs": [],
   "source": [
    "from protobackend.dispatcher import Dispatcher"
   ]
  },
  {
   "cell_type": "markdown",
   "metadata": {},
   "source": [
    "Background\n",
    "----------\n",
    "\n",
    "At it's core, the `Dispatcher` object calls methods belonging to an `active_exercise`.\n",
    "In the examples below, the \"exercises\" are just the `math` and `os.path` modules.\n",
    "\n",
    "The dispatcher works as follows\n",
    "\n",
    "1. Call any defined pre_hooks\n",
    "2. Dispatch command\n",
    "3. Call any defined post_hooks"
   ]
  },
  {
   "cell_type": "markdown",
   "metadata": {},
   "source": [
    "Dispatching Commands\n",
    "--------------------\n",
    "\n",
    "Commands are dispatched to the `active_exercise` using the `Dispatcher.dispatch` method. This method expects a dictionary with two entries:\n",
    "\n",
    "1. **command**: the name of the method being called\n",
    "2. **payload**: passed as the first argument when that method is called\n",
    "\n",
    "The example below shows a simple dispatcher, which calls `math.ceil(2.5)`."
   ]
  },
  {
   "cell_type": "code",
   "execution_count": 2,
   "metadata": {},
   "outputs": [
    {
     "data": {
      "text/plain": [
       "3"
      ]
     },
     "execution_count": 2,
     "metadata": {},
     "output_type": "execute_result"
    }
   ],
   "source": [
    "import math\n",
    "\n",
    "d = Dispatcher({})\n",
    "d.active_exercise = math\n",
    "d.dispatch({'command': 'ceil', 'payload': 2.5})"
   ]
  },
  {
   "cell_type": "markdown",
   "metadata": {},
   "source": [
    "Defining pre/post hooks\n",
    "-----------------------\n",
    "\n",
    "`Dispatcher` instances have a `hook` decorator, that can be used to define behavior before and after dispatching each command. In the example below, pre hooks convert string payloads to float, and add 1 to it when `ceil` is being called."
   ]
  },
  {
   "cell_type": "code",
   "execution_count": 3,
   "metadata": {},
   "outputs": [
    {
     "name": "stdout",
     "output_type": "stream",
     "text": [
      "ceil output:\t 4\n",
      "floor output:\t 2\n"
     ]
    },
    {
     "data": {
      "text/plain": [
       "2"
      ]
     },
     "execution_count": 3,
     "metadata": {},
     "output_type": "execute_result"
    }
   ],
   "source": [
    "import math\n",
    "\n",
    "d = Dispatcher({})\n",
    "d.active_exercise = math\n",
    "\n",
    "@d.hook('pre')\n",
    "def str_to_float(data, cmd):\n",
    "    return float(data)\n",
    "\n",
    "@d.hook('pre')\n",
    "def add1_to_ceil(data, cmd):\n",
    "    return data + 1 if cmd == 'ceil' else data\n",
    "\n",
    "@d.hook('post')\n",
    "def print_output(data, cmd):\n",
    "    print('%s output:\\t'%cmd, data)\n",
    "    return data\n",
    "\n",
    "d.dispatch({'command': 'ceil', 'payload': '2.5'})\n",
    "d.dispatch({'command': 'floor', 'payload': '2.5'})"
   ]
  },
  {
   "cell_type": "markdown",
   "metadata": {},
   "source": [
    "Switching exercises\n",
    "-------------------\n",
    "\n",
    "Hooks may take an optional third argument named dispatcher.\n",
    "This allows you to set the active exercise within a pre hook.\n",
    "The example demonstrates this by switching between the `math` and `path` modules, depending on the command."
   ]
  },
  {
   "cell_type": "code",
   "execution_count": 4,
   "metadata": {},
   "outputs": [
    {
     "name": "stdout",
     "output_type": "stream",
     "text": [
      "split:\t ('a/b', 'c.txt')\n",
      "ceil:\t 3\n"
     ]
    }
   ],
   "source": [
    "import math\n",
    "from os import path\n",
    "\n",
    "d = Dispatcher({'math': math, 'path': path})\n",
    "\n",
    "@d.hook('pre')\n",
    "def set_active(data, cmd, dispatcher):\n",
    "    # note that the modules may also be accessed using\n",
    "    # dispatcher.exercises\n",
    "    if cmd == 'split':\n",
    "        dispatcher.active_exercise = path\n",
    "    else:\n",
    "        dispatcher.active_exercise = math\n",
    "    \n",
    "    return data\n",
    "\n",
    "@d.hook('post')\n",
    "def print_output(data, cmd):\n",
    "    print('%s:\\t'%cmd, data)\n",
    "\n",
    "d.dispatch({'command': 'split', 'payload': 'a/b/c.txt'})\n",
    "d.dispatch({'command': 'ceil', 'payload': 2.5})"
   ]
  },
  {
   "cell_type": "markdown",
   "metadata": {},
   "source": [
    "Test Yourself\n",
    "-------------\n",
    "\n",
    "Below is a class named `BaseEx` with a `runInit` method.\n",
    "Before this method is dispatched, use a pre hook to set the active exercise to a `BaseEx` instance."
   ]
  },
  {
   "cell_type": "code",
   "execution_count": null,
   "metadata": {},
   "outputs": [],
   "source": [
    "class BaseEx:\n",
    "    def runInit(self, data):\n",
    "        print('calling runInit with data: ' %data)\n",
    "\n",
    "d = Dispatcher({'BaseEx': BaseEx})\n",
    "\n",
    "# --- put pre hook here ---\n",
    "\n",
    "d.dispatch({'command': 'runInit', 'payload': {}})"
   ]
  }
 ],
 "metadata": {
  "anaconda-cloud": {},
  "kernelspec": {
   "display_name": "Python 3",
   "language": "python",
   "name": "python3"
  },
  "language_info": {
   "codemirror_mode": {
    "name": "ipython",
    "version": 3
   },
   "file_extension": ".py",
   "mimetype": "text/x-python",
   "name": "python",
   "nbconvert_exporter": "python",
   "pygments_lexer": "ipython3",
   "version": "3.5.2"
  }
 },
 "nbformat": 4,
 "nbformat_minor": 1
}
