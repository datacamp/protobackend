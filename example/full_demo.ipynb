{
 "cells": [
  {
   "cell_type": "markdown",
   "metadata": {},
   "source": [
    "Full Exercise Classes Example\n",
    "-----------------------------\n",
    "\n",
    "Below, we create a dispatcher that creates an exercise instance.\n",
    "This is done when the `runInit` command is dispatched.\n"
   ]
  },
  {
   "cell_type": "markdown",
   "metadata": {},
   "source": [
    "Exercises\n",
    "---------"
   ]
  },
  {
   "cell_type": "code",
   "execution_count": 1,
   "metadata": {
    "collapsed": true
   },
   "outputs": [],
   "source": [
    "class BaseEx:\n",
    "    def __init__(self, data):\n",
    "        print('running __init__ for %s' %self.__class__.__name__)\n",
    "\n",
    "    def runInit(self, data):\n",
    "        self.x = data['x']\n",
    "        return self.x\n",
    "    \n",
    "    def getX(self, data):\n",
    "        return self.x\n",
    "\n",
    "class SubEx(BaseEx):\n",
    "    def add(self, n):\n",
    "        self.x += n"
   ]
  },
  {
   "cell_type": "markdown",
   "metadata": {},
   "source": [
    "Basic Exercise Example\n",
    "----------------------"
   ]
  },
  {
   "cell_type": "code",
   "execution_count": 2,
   "metadata": {
    "collapsed": false
   },
   "outputs": [
    {
     "name": "stdout",
     "output_type": "stream",
     "text": [
      "{'SubEx': <class '__main__.SubEx'>, 'BaseEx': <class '__main__.BaseEx'>}\n",
      "None\n"
     ]
    }
   ],
   "source": [
    "from protobackend.dispatcher import Dispatcher\n",
    "\n",
    "d = Dispatcher({'BaseEx': BaseEx, 'SubEx': SubEx})\n",
    "\n",
    "@d.hook('pre')\n",
    "def init_class(data, cmd, dispatcher):\n",
    "    \"\"\"Create a class instance. Assigned to d.active_exercise.\"\"\"\n",
    "    if cmd == 'runInit':\n",
    "        # get class name from payload\n",
    "        name = data.get('class', 'BaseEx')\n",
    "        cls = dispatcher.exercises[name]\n",
    "        print('pre hook class: ', cls.__name__)\n",
    "        dispatcher.active_exercise = cls(data)\n",
    "    return data\n",
    "\n",
    "@d.hook('post')\n",
    "def print_output(data, cmd):\n",
    "    print('%s:\\t'%cmd, data)\n",
    "\n",
    "print(d.exercises)\n",
    "print(d.active_exercise)"
   ]
  },
  {
   "cell_type": "code",
   "execution_count": 3,
   "metadata": {
    "collapsed": false
   },
   "outputs": [
    {
     "name": "stdout",
     "output_type": "stream",
     "text": [
      "Running BaseEx ----\n",
      "pre hook class:  BaseEx\n",
      "running __init__ for BaseEx\n",
      "runInit:\t 1\n",
      "getX:\t 1\n",
      "<__main__.BaseEx object at 0x1040d9dd8>\n"
     ]
    }
   ],
   "source": [
    "print(\"Running BaseEx ----\")\n",
    "d.dispatch({\n",
    "        'command': 'runInit',\n",
    "        'payload': {'class': 'BaseEx', 'x': 1}\n",
    "    })\n",
    "d.dispatch({'command': 'getX', 'payload': None})\n",
    "\n",
    "print(d.active_exercise)"
   ]
  },
  {
   "cell_type": "code",
   "execution_count": 4,
   "metadata": {
    "collapsed": false
   },
   "outputs": [
    {
     "name": "stdout",
     "output_type": "stream",
     "text": [
      "Running SubEx ----\n",
      "pre hook class:  SubEx\n",
      "running __init__ for SubEx\n",
      "runInit:\t 2\n",
      "add:\t None\n",
      "getX:\t 12\n",
      "<__main__.SubEx object at 0x1040e71d0>\n"
     ]
    }
   ],
   "source": [
    "print(\"Running SubEx ----\")\n",
    "d.dispatch({\n",
    "        'command': 'runInit',\n",
    "        'payload': {'class': 'SubEx', 'x': 2}\n",
    "    })\n",
    "d.dispatch({'command': 'add', 'payload': 10})\n",
    "d.dispatch({'command': 'getX', 'payload': None})\n",
    "\n",
    "print(d.active_exercise)"
   ]
  },
  {
   "cell_type": "markdown",
   "metadata": {},
   "source": [
    "Exposing Commands for Multiplexer\n",
    "------------------------------------"
   ]
  },
  {
   "cell_type": "code",
   "execution_count": 5,
   "metadata": {
    "collapsed": false
   },
   "outputs": [
    {
     "name": "stdout",
     "output_type": "stream",
     "text": [
      "running __init__ for SubEx\n"
     ]
    },
    {
     "data": {
      "text/plain": [
       "2"
      ]
     },
     "execution_count": 5,
     "metadata": {},
     "output_type": "execute_result"
    }
   ],
   "source": [
    "# init_hook is analogous to the function init_class\n",
    "# that was written manually in the demo above.\n",
    "# it expects the DC_TYPE to specify the class name\n",
    "from protobackend.dispatcher import init_hook\n",
    "\n",
    "d = Dispatcher({'BaseEx': BaseEx, 'SubEx': SubEx})\n",
    "\n",
    "# how python decorator syntax looks without @\n",
    "d.hook('pre')(init_hook)\n",
    "\n",
    "# calling runInit(payload) will be equivalent to:\n",
    "# d.dispatch({'command': 'runInit', 'payload': payload})\n",
    "runInit = d.expose('runInit')\n",
    "getX = d.expose('getX')\n",
    "\n",
    "runInit({'DC_TYPE': 'SubEx', 'x': 2})\n",
    "getX({})"
   ]
  }
 ],
 "metadata": {
  "anaconda-cloud": {},
  "kernelspec": {
   "display_name": "Python [Root]",
   "language": "python",
   "name": "Python [Root]"
  },
  "language_info": {
   "codemirror_mode": {
    "name": "ipython",
    "version": 3
   },
   "file_extension": ".py",
   "mimetype": "text/x-python",
   "name": "python",
   "nbconvert_exporter": "python",
   "pygments_lexer": "ipython3",
   "version": "3.5.2"
  }
 },
 "nbformat": 4,
 "nbformat_minor": 0
}
